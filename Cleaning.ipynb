{
 "cells": [
  {
   "cell_type": "code",
   "execution_count": null,
   "id": "108ab0bd",
   "metadata": {},
   "outputs": [],
   "source": [
    "#Importar pandas para iniciar con la limpieza de datos\n",
    "\n",
    "import pandas as pd # type: ignore"
   ]
  },
  {
   "cell_type": "code",
   "execution_count": null,
   "id": "f67f5837",
   "metadata": {},
   "outputs": [],
   "source": [
    "# Cargar mi archivo CSV en un DataFrame de Pandas\n",
    "\n",
    "df = pd.read_csv(\"homicidios_source.csv\")"
   ]
  },
  {
   "cell_type": "code",
   "execution_count": null,
   "id": "840dadec",
   "metadata": {},
   "outputs": [
    {
     "data": {
      "text/plain": [
       "(84294, 9)"
      ]
     },
     "execution_count": 3,
     "metadata": {},
     "output_type": "execute_result"
    }
   ],
   "source": [
    "#Mostrar el numero de filas y el numero de columnas de mi Data Frame\n",
    "\n",
    "df.shape"
   ]
  },
  {
   "cell_type": "code",
   "execution_count": null,
   "id": "38d68d6c",
   "metadata": {},
   "outputs": [
    {
     "name": "stdout",
     "output_type": "stream",
     "text": [
      "<class 'pandas.core.frame.DataFrame'>\n",
      "RangeIndex: 84294 entries, 0 to 84293\n",
      "Data columns (total 9 columns):\n",
      " #   Column                Non-Null Count  Dtype  \n",
      "---  ------                --------------  -----  \n",
      " 0   DEPARTAMENTO          82354 non-null  object \n",
      " 1   MUNICIPIO             82354 non-null  object \n",
      " 2   CODIGO DANE           82354 non-null  float64\n",
      " 3   ARMAS MEDIOS          82354 non-null  object \n",
      " 4   FECHA HECHO           82354 non-null  object \n",
      " 5   GENERO                82354 non-null  object \n",
      " 6   GRUPO ETARÍO          82354 non-null  object \n",
      " 7   DESCRIPCIÓN CONDUCTA  84294 non-null  object \n",
      " 8   CANTIDAD              82354 non-null  float64\n",
      "dtypes: float64(2), object(7)\n",
      "memory usage: 5.8+ MB\n"
     ]
    }
   ],
   "source": [
    "# Mostrar un resumen de mi Data Frame\n",
    "\n",
    "df.info()"
   ]
  },
  {
   "cell_type": "code",
   "execution_count": null,
   "id": "6176b0f6",
   "metadata": {},
   "outputs": [],
   "source": [
    "# Usa el método drop() para eliminar columnas que no se necesitan para el análisis  \n",
    "# Luego de una revisión previa de mi Data Frame, eliminamos algunas columnas innecesarias para el analisis y guardar el resultado en un nuevo DataFrame llamado df_cleaned\n",
    "\n",
    "df_cleaned = df.drop(columns=[\"CODIGO DANE\",\"DESCRIPCIÓN CONDUCTA\"])"
   ]
  },
  {
   "cell_type": "code",
   "execution_count": null,
   "id": "f1308334",
   "metadata": {},
   "outputs": [
    {
     "name": "stdout",
     "output_type": "stream",
     "text": [
      "<class 'pandas.core.frame.DataFrame'>\n",
      "RangeIndex: 84294 entries, 0 to 84293\n",
      "Data columns (total 7 columns):\n",
      " #   Column        Non-Null Count  Dtype  \n",
      "---  ------        --------------  -----  \n",
      " 0   DEPARTAMENTO  82354 non-null  object \n",
      " 1   MUNICIPIO     82354 non-null  object \n",
      " 2   ARMAS MEDIOS  82354 non-null  object \n",
      " 3   FECHA HECHO   82354 non-null  object \n",
      " 4   GENERO        82354 non-null  object \n",
      " 5   GRUPO ETARÍO  82354 non-null  object \n",
      " 6   CANTIDAD      82354 non-null  float64\n",
      "dtypes: float64(1), object(6)\n",
      "memory usage: 4.5+ MB\n"
     ]
    }
   ],
   "source": [
    "# Mostrar nuevamente el resumen de mi Data Frame para validar que se han eliminado las columnas innecesarias \n",
    "\n",
    "df_cleaned.info()"
   ]
  },
  {
   "cell_type": "code",
   "execution_count": null,
   "id": "12b06908",
   "metadata": {},
   "outputs": [
    {
     "name": "stdout",
     "output_type": "stream",
     "text": [
      "<class 'pandas.core.frame.DataFrame'>\n",
      "RangeIndex: 84294 entries, 0 to 84293\n",
      "Data columns (total 7 columns):\n",
      " #   Column        Non-Null Count  Dtype  \n",
      "---  ------        --------------  -----  \n",
      " 0   DEPARTAMENTO  82354 non-null  object \n",
      " 1   MUNICIPIO     82354 non-null  object \n",
      " 2   ARMAS_MEDIOS  82354 non-null  object \n",
      " 3   FECHA_HECHO   82354 non-null  object \n",
      " 4   GENERO        82354 non-null  object \n",
      " 5   GRUPO_ETARIO  82354 non-null  object \n",
      " 6   CANTIDAD      82354 non-null  float64\n",
      "dtypes: float64(1), object(6)\n",
      "memory usage: 4.5+ MB\n"
     ]
    }
   ],
   "source": [
    "# Renombrar algunas columnas de mi Data Frame   \n",
    "\n",
    "# ARMAS MEDIOS\n",
    "df_cleaned.rename(columns={'ARMAS MEDIOS': 'ARMAS_MEDIOS'}, inplace=True)\n",
    "\n",
    "# FECHA HECHO\n",
    "df_cleaned.rename(columns={'FECHA HECHO': 'FECHA_HECHO'}, inplace=True)\n",
    "\n",
    "# GRUPO ETARÍO\n",
    "df_cleaned.rename(columns={'GRUPO ETARÍO': 'GRUPO_ETARIO'}, inplace=True)\n",
    "\n",
    "# Usa el método info(), que te da información sobre el nuevo conjunto de datos.\n",
    "df_cleaned.info()"
   ]
  },
  {
   "cell_type": "code",
   "execution_count": null,
   "id": "abb2d4b8",
   "metadata": {},
   "outputs": [],
   "source": [
    "# Eliminar filas con valores nulos.\n",
    "\n",
    "df_cleaned = df_cleaned.dropna()"
   ]
  },
  {
   "cell_type": "code",
   "execution_count": null,
   "id": "ef06a7d1",
   "metadata": {},
   "outputs": [
    {
     "data": {
      "text/plain": [
       "(82354, 7)"
      ]
     },
     "execution_count": 9,
     "metadata": {},
     "output_type": "execute_result"
    }
   ],
   "source": [
    "#Mostrar el resumen del numero de filas y columnas para validar la nueva cantidad de datos \n",
    "\n",
    "df_cleaned.shape"
   ]
  },
  {
   "cell_type": "code",
   "execution_count": null,
   "id": "107d5bc8",
   "metadata": {},
   "outputs": [
    {
     "data": {
      "text/plain": [
       "1940"
      ]
     },
     "execution_count": 10,
     "metadata": {},
     "output_type": "execute_result"
    }
   ],
   "source": [
    "# Mostrar la cantidad de filas eliminadas\n",
    "\n",
    "rows_before = df.shape[0]\n",
    "rows_after = df_cleaned.shape[0]\n",
    "\n",
    "rows_before - rows_after"
   ]
  },
  {
   "cell_type": "code",
   "execution_count": null,
   "id": "f45cff43",
   "metadata": {},
   "outputs": [
    {
     "name": "stdout",
     "output_type": "stream",
     "text": [
      "<class 'pandas.core.frame.DataFrame'>\n",
      "Index: 82354 entries, 0 to 82353\n",
      "Data columns (total 7 columns):\n",
      " #   Column        Non-Null Count  Dtype  \n",
      "---  ------        --------------  -----  \n",
      " 0   DEPARTAMENTO  82354 non-null  object \n",
      " 1   MUNICIPIO     82354 non-null  object \n",
      " 2   ARMAS_MEDIOS  82354 non-null  object \n",
      " 3   FECHA_HECHO   82354 non-null  object \n",
      " 4   GENERO        82354 non-null  object \n",
      " 5   GRUPO_ETARIO  82354 non-null  object \n",
      " 6   CANTIDAD      82354 non-null  float64\n",
      "dtypes: float64(1), object(6)\n",
      "memory usage: 5.0+ MB\n"
     ]
    }
   ],
   "source": [
    "# Mostrar el resumen de mi Data Frame para validar las acciones previas realizadas.\n",
    "\n",
    "df_cleaned.info()"
   ]
  },
  {
   "cell_type": "code",
   "execution_count": null,
   "id": "c1c25cf5",
   "metadata": {},
   "outputs": [
    {
     "name": "stdout",
     "output_type": "stream",
     "text": [
      "<class 'pandas.core.frame.DataFrame'>\n",
      "Index: 82354 entries, 0 to 82353\n",
      "Data columns (total 7 columns):\n",
      " #   Column        Non-Null Count  Dtype \n",
      "---  ------        --------------  ----- \n",
      " 0   DEPARTAMENTO  82354 non-null  string\n",
      " 1   MUNICIPIO     82354 non-null  string\n",
      " 2   ARMAS_MEDIOS  82354 non-null  string\n",
      " 3   FECHA_HECHO   82354 non-null  object\n",
      " 4   GENERO        82354 non-null  string\n",
      " 5   GRUPO_ETARIO  82354 non-null  string\n",
      " 6   CANTIDAD      82354 non-null  int64 \n",
      "dtypes: int64(1), object(1), string(5)\n",
      "memory usage: 5.0+ MB\n"
     ]
    }
   ],
   "source": [
    "# Ajustar de tipos de datos para futuros analisis y mostrar su ajuste en el Data Frame\n",
    "\n",
    "df_cleaned['DEPARTAMENTO'] = df_cleaned['DEPARTAMENTO'].astype('string')\n",
    "df_cleaned['MUNICIPIO'] = df_cleaned['MUNICIPIO'].astype('string')\n",
    "df_cleaned['ARMAS_MEDIOS'] = df_cleaned['ARMAS_MEDIOS'].astype('string')\n",
    "df_cleaned['GENERO'] = df_cleaned['GENERO'].astype('string')\n",
    "df_cleaned['GRUPO_ETARIO'] = df_cleaned['GRUPO_ETARIO'].astype('string')\n",
    "df_cleaned['CANTIDAD'] = df_cleaned['CANTIDAD'].astype('int')\n",
    "\n",
    "df_cleaned.info()\n"
   ]
  },
  {
   "cell_type": "code",
   "execution_count": null,
   "id": "150bedf6",
   "metadata": {},
   "outputs": [],
   "source": [
    "# Ajustar el tipo de formato en los valores de la Columna \"FECHA_HECHO\"  para mostrar en formato fecha.\n",
    "\n",
    "df_cleaned.FECHA_HECHO = pd.to_datetime(df_cleaned.FECHA_HECHO, format=\"%d/%m/%Y\")"
   ]
  },
  {
   "cell_type": "code",
   "execution_count": null,
   "id": "1c249df3",
   "metadata": {},
   "outputs": [],
   "source": [
    "# Eliminar filas con valores nulos en la columna \"FECHA_HECHO\"\n",
    "df_cleaned.dropna(subset=[\"FECHA_HECHO\"], inplace=True)"
   ]
  },
  {
   "cell_type": "code",
   "execution_count": null,
   "id": "24e71f67",
   "metadata": {},
   "outputs": [
    {
     "data": {
      "text/plain": [
       "count                            82354\n",
       "mean     2018-07-18 01:07:26.491973632\n",
       "min                2010-01-01 00:00:00\n",
       "25%                2014-12-24 00:00:00\n",
       "50%                2019-01-01 00:00:00\n",
       "75%                2022-08-06 00:00:00\n",
       "max                2024-10-31 00:00:00\n",
       "Name: FECHA_HECHO, dtype: object"
      ]
     },
     "execution_count": 15,
     "metadata": {},
     "output_type": "execute_result"
    }
   ],
   "source": [
    "# Verificar que la accion anterior se haya completado y que las fechas con formatos inválidos se han eliminado\n",
    "\n",
    "df_cleaned.FECHA_HECHO.describe()"
   ]
  },
  {
   "cell_type": "code",
   "execution_count": null,
   "id": "aa6b5619",
   "metadata": {},
   "outputs": [
    {
     "data": {
      "text/plain": [
       "['BICICLETA',\n",
       " 'CONTUNDENTES',\n",
       " 'MOTO',\n",
       " 'NO REPORTADO',\n",
       " 'NO REPOTADO',\n",
       " 'SIN EMPLEO DE ARMAS',\n",
       " 'TREN',\n",
       " 'VEHICULO']"
      ]
     },
     "execution_count": 16,
     "metadata": {},
     "output_type": "execute_result"
    }
   ],
   "source": [
    "# Mostrar los valores unicos de la columna \"Armas Medios\" en orden alfabético, para validar posibles errores o duplicados en la informacion\n",
    "sorted(df_cleaned.ARMAS_MEDIOS.unique())"
   ]
  },
  {
   "cell_type": "code",
   "execution_count": null,
   "id": "3662956f",
   "metadata": {},
   "outputs": [],
   "source": [
    "# Luego de validar los datos con la accion anterior, proceder a reemplazar las palabras 'NO REPOTADO' por 'NO REPORTADO' en la columna \"Armas Medios\"\n",
    "\n",
    "df_cleaned.ARMAS_MEDIOS = df_cleaned.ARMAS_MEDIOS.replace(\"NO REPOTADO\",\"NO REPORTADO\")"
   ]
  },
  {
   "cell_type": "code",
   "execution_count": null,
   "id": "f7b77cc8",
   "metadata": {},
   "outputs": [
    {
     "data": {
      "text/plain": [
       "['BICICLETA',\n",
       " 'CONTUNDENTES',\n",
       " 'MOTO',\n",
       " 'NO REPORTADO',\n",
       " 'SIN EMPLEO DE ARMAS',\n",
       " 'TREN',\n",
       " 'VEHICULO']"
      ]
     },
     "execution_count": 18,
     "metadata": {},
     "output_type": "execute_result"
    }
   ],
   "source": [
    "# Mostrar nuevamente los valores en la columna \"Armas Medios\" para validar los cambios\n",
    "\n",
    "sorted(df_cleaned.ARMAS_MEDIOS.unique())"
   ]
  },
  {
   "cell_type": "code",
   "execution_count": null,
   "id": "88d40c18",
   "metadata": {},
   "outputs": [
    {
     "data": {
      "text/plain": [
       "['FEMENINO', 'MASCULINO', 'NO REPORTA', 'NO REPORTADO', 'NO REPOTADO']"
      ]
     },
     "execution_count": 19,
     "metadata": {},
     "output_type": "execute_result"
    }
   ],
   "source": [
    "# Mostrar los valores unicos de la columna \"Genero\" en orden alfabético, para validar posibles errores o duplicados en la informacion\n",
    "sorted(df_cleaned.GENERO.unique())"
   ]
  },
  {
   "cell_type": "code",
   "execution_count": null,
   "id": "0da4c5fe",
   "metadata": {},
   "outputs": [],
   "source": [
    "# Luego de validar los datos con la accion anterior, proceder a reemplazar las palabras'NO REPORTADO' por 'NO REPORTA', y 'NO REPOTADO' por 'NO REPORTA' en la columna \"Genero\"\n",
    "\n",
    "df_cleaned.GENERO = df_cleaned.GENERO.replace(\"NO REPORTADO\",\"NO REPORTA\")\n",
    "df_cleaned.GENERO = df_cleaned.GENERO.replace(\"NO REPOTADO\", \"NO REPORTA\")\n"
   ]
  },
  {
   "cell_type": "code",
   "execution_count": null,
   "id": "36f84c9f",
   "metadata": {},
   "outputs": [
    {
     "data": {
      "text/plain": [
       "['FEMENINO', 'MASCULINO', 'NO REPORTA']"
      ]
     },
     "execution_count": 21,
     "metadata": {},
     "output_type": "execute_result"
    }
   ],
   "source": [
    "# Mostrar nuevamente los valores en la columna \"Genero\" para validar los cambios\n",
    "sorted(df_cleaned.GENERO.unique())"
   ]
  },
  {
   "cell_type": "code",
   "execution_count": null,
   "id": "13999864",
   "metadata": {},
   "outputs": [
    {
     "data": {
      "text/plain": [
       "['ADOLESCENTES', 'ADULTOS', 'MENORES', 'NO REPORTADO', 'NO REPOTADO']"
      ]
     },
     "execution_count": 22,
     "metadata": {},
     "output_type": "execute_result"
    }
   ],
   "source": [
    "# Mostrar los valores unicos de la columna \"Grupo Etario\" en orden alfabético, para validar posibles errores o duplicados en la informacion\n",
    "sorted(df_cleaned.GRUPO_ETARIO.unique())"
   ]
  },
  {
   "cell_type": "code",
   "execution_count": null,
   "id": "b5e865f7",
   "metadata": {},
   "outputs": [],
   "source": [
    "# Luego de validar los datos con la accion anterior, proceder a reemplazar las palabras 'NO REPOTADO' por 'NO REPORTADO' en la columna \"Grupo Etario\"\n",
    "df_cleaned.GRUPO_ETARIO = df_cleaned.GRUPO_ETARIO.replace(\"NO REPOTADO\", \"NO REPORTADO\")"
   ]
  },
  {
   "cell_type": "code",
   "execution_count": null,
   "id": "fc803efa",
   "metadata": {},
   "outputs": [
    {
     "data": {
      "text/plain": [
       "['ADOLESCENTES', 'ADULTOS', 'MENORES', 'NO REPORTADO']"
      ]
     },
     "execution_count": 24,
     "metadata": {},
     "output_type": "execute_result"
    }
   ],
   "source": [
    "# Mostrar nuevamente los valores en la columna \"Grupo Etario\" para validar los cambios\n",
    "sorted(df_cleaned.GRUPO_ETARIO.unique())"
   ]
  },
  {
   "cell_type": "code",
   "execution_count": null,
   "id": "3a6b9b1e",
   "metadata": {},
   "outputs": [],
   "source": [
    "# Eliminamos todos los duplicados.\n",
    "\n",
    "df_cleaned.drop_duplicates(subset=None, keep='first', inplace=True)\n"
   ]
  },
  {
   "cell_type": "code",
   "execution_count": null,
   "id": "e90dc09e",
   "metadata": {},
   "outputs": [
    {
     "data": {
      "text/plain": [
       "(76467, 7)"
      ]
     },
     "execution_count": 26,
     "metadata": {},
     "output_type": "execute_result"
    }
   ],
   "source": [
    "# Mostrar la cantidad de datos a analizar en mi Data Frame, Filas y Columnas.\n",
    "\n",
    "df_cleaned.shape"
   ]
  },
  {
   "cell_type": "code",
   "execution_count": null,
   "id": "10359a3b",
   "metadata": {},
   "outputs": [
    {
     "name": "stdout",
     "output_type": "stream",
     "text": [
      "<class 'pandas.core.frame.DataFrame'>\n",
      "Index: 76467 entries, 0 to 82353\n",
      "Data columns (total 7 columns):\n",
      " #   Column        Non-Null Count  Dtype         \n",
      "---  ------        --------------  -----         \n",
      " 0   DEPARTAMENTO  76467 non-null  string        \n",
      " 1   MUNICIPIO     76467 non-null  string        \n",
      " 2   ARMAS_MEDIOS  76467 non-null  string        \n",
      " 3   FECHA_HECHO   76467 non-null  datetime64[ns]\n",
      " 4   GENERO        76467 non-null  string        \n",
      " 5   GRUPO_ETARIO  76467 non-null  string        \n",
      " 6   CANTIDAD      76467 non-null  int64         \n",
      "dtypes: datetime64[ns](1), int64(1), string(5)\n",
      "memory usage: 4.7 MB\n"
     ]
    }
   ],
   "source": [
    "# Mostrar un resumen de mi Data Frame, para validar las columnas, y cantidad de filas, y el tipo de datos que tenemos listo para analizar\n",
    "\n",
    "df_cleaned.info()"
   ]
  },
  {
   "cell_type": "code",
   "execution_count": null,
   "id": "f664676a",
   "metadata": {},
   "outputs": [
    {
     "name": "stdout",
     "output_type": "stream",
     "text": [
      "\n",
      "El archivo CSV ha sido guardado.\n"
     ]
    }
   ],
   "source": [
    "# Guardar el nuevo Data Frame con los ajustes realizados en un archivo CSV\n",
    "\n",
    "df_cleaned.to_csv(\"homicidios_clean.csv\", index=False)\n",
    "\n",
    "print(\"\\nEl archivo CSV ha sido guardado.\")"
   ]
  }
 ],
 "metadata": {
  "kernelspec": {
   "display_name": "Python 3",
   "language": "python",
   "name": "python3"
  },
  "language_info": {
   "codemirror_mode": {
    "name": "ipython",
    "version": 3
   },
   "file_extension": ".py",
   "mimetype": "text/x-python",
   "name": "python",
   "nbconvert_exporter": "python",
   "pygments_lexer": "ipython3",
   "version": "3.13.2"
  }
 },
 "nbformat": 4,
 "nbformat_minor": 5
}
