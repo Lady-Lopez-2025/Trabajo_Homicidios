{
 "cells": [
  {
   "cell_type": "code",
   "execution_count": 23,
   "metadata": {},
   "outputs": [],
   "source": [
    "#Utilizo la libreria de Pandas\n",
    "\n",
    "import pandas as pd"
   ]
  },
  {
   "cell_type": "code",
   "execution_count": 24,
   "metadata": {},
   "outputs": [],
   "source": [
    "#Guardo los datos del CSV en un Data Frame llamado df\n",
    "\n",
    "df = pd.read_csv(\"homicidios_source.csv\")"
   ]
  },
  {
   "cell_type": "code",
   "execution_count": 25,
   "metadata": {},
   "outputs": [
    {
     "data": {
      "text/plain": [
       "(84294, 9)"
      ]
     },
     "execution_count": 25,
     "metadata": {},
     "output_type": "execute_result"
    }
   ],
   "source": [
    "#Muestro la cantidad de filas y columnas de mi dataset\n",
    "\n",
    "df.shape"
   ]
  },
  {
   "cell_type": "code",
   "execution_count": null,
   "metadata": {},
   "outputs": [
    {
     "name": "stdout",
     "output_type": "stream",
     "text": [
      "<class 'pandas.core.frame.DataFrame'>\n",
      "RangeIndex: 84294 entries, 0 to 84293\n",
      "Data columns (total 9 columns):\n",
      " #   Column                Non-Null Count  Dtype  \n",
      "---  ------                --------------  -----  \n",
      " 0   DEPARTAMENTO          82354 non-null  object \n",
      " 1   MUNICIPIO             82354 non-null  object \n",
      " 2   CODIGO DANE           82354 non-null  float64\n",
      " 3   ARMAS MEDIOS          82354 non-null  object \n",
      " 4   FECHA HECHO           82354 non-null  object \n",
      " 5   GENERO                82354 non-null  object \n",
      " 6   GRUPO ETARÍO          82354 non-null  object \n",
      " 7   DESCRIPCIÓN CONDUCTA  84294 non-null  object \n",
      " 8   CANTIDAD              82354 non-null  float64\n",
      "dtypes: float64(2), object(7)\n",
      "memory usage: 5.8+ MB\n"
     ]
    }
   ],
   "source": [
    "#Revisar un resumen rapido de mi Data Frame, numero de filas, columnas y cantidad de valores en cada una de ellas\n",
    "df.info()"
   ]
  },
  {
   "cell_type": "code",
   "execution_count": null,
   "metadata": {},
   "outputs": [
    {
     "data": {
      "text/html": [
       "<div>\n",
       "<style scoped>\n",
       "    .dataframe tbody tr th:only-of-type {\n",
       "        vertical-align: middle;\n",
       "    }\n",
       "\n",
       "    .dataframe tbody tr th {\n",
       "        vertical-align: top;\n",
       "    }\n",
       "\n",
       "    .dataframe thead th {\n",
       "        text-align: right;\n",
       "    }\n",
       "</style>\n",
       "<table border=\"1\" class=\"dataframe\">\n",
       "  <thead>\n",
       "    <tr style=\"text-align: right;\">\n",
       "      <th></th>\n",
       "      <th>DEPARTAMENTO</th>\n",
       "      <th>MUNICIPIO</th>\n",
       "      <th>CODIGO DANE</th>\n",
       "      <th>ARMAS MEDIOS</th>\n",
       "      <th>FECHA HECHO</th>\n",
       "      <th>GENERO</th>\n",
       "      <th>GRUPO ETARÍO</th>\n",
       "      <th>DESCRIPCIÓN CONDUCTA</th>\n",
       "      <th>CANTIDAD</th>\n",
       "    </tr>\n",
       "  </thead>\n",
       "  <tbody>\n",
       "    <tr>\n",
       "      <th>0</th>\n",
       "      <td>ANTIOQUIA</td>\n",
       "      <td>LA CEJA</td>\n",
       "      <td>5376000.0</td>\n",
       "      <td>MOTO</td>\n",
       "      <td>1/01/2010</td>\n",
       "      <td>MASCULINO</td>\n",
       "      <td>ADULTOS</td>\n",
       "      <td>ARTÍCULO 109. HOMICIDIO CULPOSO ( EN ACCIDENTE...</td>\n",
       "      <td>1.0</td>\n",
       "    </tr>\n",
       "    <tr>\n",
       "      <th>1</th>\n",
       "      <td>ATLÁNTICO</td>\n",
       "      <td>BARRANQUILLA (CT)</td>\n",
       "      <td>8001000.0</td>\n",
       "      <td>MOTO</td>\n",
       "      <td>1/01/2010</td>\n",
       "      <td>FEMENINO</td>\n",
       "      <td>ADULTOS</td>\n",
       "      <td>ARTÍCULO 109. HOMICIDIO CULPOSO ( EN ACCIDENTE...</td>\n",
       "      <td>1.0</td>\n",
       "    </tr>\n",
       "    <tr>\n",
       "      <th>2</th>\n",
       "      <td>ATLÁNTICO</td>\n",
       "      <td>LURUACO</td>\n",
       "      <td>8421000.0</td>\n",
       "      <td>MOTO</td>\n",
       "      <td>1/01/2010</td>\n",
       "      <td>MASCULINO</td>\n",
       "      <td>ADULTOS</td>\n",
       "      <td>ARTÍCULO 109. HOMICIDIO CULPOSO ( EN ACCIDENTE...</td>\n",
       "      <td>1.0</td>\n",
       "    </tr>\n",
       "    <tr>\n",
       "      <th>3</th>\n",
       "      <td>CAQUETÁ</td>\n",
       "      <td>PUERTO RICO</td>\n",
       "      <td>18592000.0</td>\n",
       "      <td>MOTO</td>\n",
       "      <td>1/01/2010</td>\n",
       "      <td>MASCULINO</td>\n",
       "      <td>ADOLESCENTES</td>\n",
       "      <td>ARTÍCULO 109. HOMICIDIO CULPOSO ( EN ACCIDENTE...</td>\n",
       "      <td>1.0</td>\n",
       "    </tr>\n",
       "    <tr>\n",
       "      <th>4</th>\n",
       "      <td>CASANARE</td>\n",
       "      <td>AGUAZUL</td>\n",
       "      <td>85010000.0</td>\n",
       "      <td>MOTO</td>\n",
       "      <td>1/01/2010</td>\n",
       "      <td>MASCULINO</td>\n",
       "      <td>ADULTOS</td>\n",
       "      <td>ARTÍCULO 109. HOMICIDIO CULPOSO ( EN ACCIDENTE...</td>\n",
       "      <td>1.0</td>\n",
       "    </tr>\n",
       "    <tr>\n",
       "      <th>...</th>\n",
       "      <td>...</td>\n",
       "      <td>...</td>\n",
       "      <td>...</td>\n",
       "      <td>...</td>\n",
       "      <td>...</td>\n",
       "      <td>...</td>\n",
       "      <td>...</td>\n",
       "      <td>...</td>\n",
       "      <td>...</td>\n",
       "    </tr>\n",
       "    <tr>\n",
       "      <th>84289</th>\n",
       "      <td>NaN</td>\n",
       "      <td>NaN</td>\n",
       "      <td>NaN</td>\n",
       "      <td>NaN</td>\n",
       "      <td>NaN</td>\n",
       "      <td>NaN</td>\n",
       "      <td>NaN</td>\n",
       "      <td>ARTÍCULO 109. HOMICIDIO CULPOSO ( EN ACCIDENTE...</td>\n",
       "      <td>NaN</td>\n",
       "    </tr>\n",
       "    <tr>\n",
       "      <th>84290</th>\n",
       "      <td>NaN</td>\n",
       "      <td>NaN</td>\n",
       "      <td>NaN</td>\n",
       "      <td>NaN</td>\n",
       "      <td>NaN</td>\n",
       "      <td>NaN</td>\n",
       "      <td>NaN</td>\n",
       "      <td>ARTÍCULO 109. HOMICIDIO CULPOSO ( EN ACCIDENTE...</td>\n",
       "      <td>NaN</td>\n",
       "    </tr>\n",
       "    <tr>\n",
       "      <th>84291</th>\n",
       "      <td>NaN</td>\n",
       "      <td>NaN</td>\n",
       "      <td>NaN</td>\n",
       "      <td>NaN</td>\n",
       "      <td>NaN</td>\n",
       "      <td>NaN</td>\n",
       "      <td>NaN</td>\n",
       "      <td>ARTÍCULO 109. HOMICIDIO CULPOSO ( EN ACCIDENTE...</td>\n",
       "      <td>NaN</td>\n",
       "    </tr>\n",
       "    <tr>\n",
       "      <th>84292</th>\n",
       "      <td>NaN</td>\n",
       "      <td>NaN</td>\n",
       "      <td>NaN</td>\n",
       "      <td>NaN</td>\n",
       "      <td>NaN</td>\n",
       "      <td>NaN</td>\n",
       "      <td>NaN</td>\n",
       "      <td>ARTÍCULO 109. HOMICIDIO CULPOSO ( EN ACCIDENTE...</td>\n",
       "      <td>NaN</td>\n",
       "    </tr>\n",
       "    <tr>\n",
       "      <th>84293</th>\n",
       "      <td>NaN</td>\n",
       "      <td>NaN</td>\n",
       "      <td>NaN</td>\n",
       "      <td>NaN</td>\n",
       "      <td>NaN</td>\n",
       "      <td>NaN</td>\n",
       "      <td>NaN</td>\n",
       "      <td>ARTÍCULO 109. HOMICIDIO CULPOSO ( EN ACCIDENTE...</td>\n",
       "      <td>NaN</td>\n",
       "    </tr>\n",
       "  </tbody>\n",
       "</table>\n",
       "<p>84294 rows × 9 columns</p>\n",
       "</div>"
      ],
      "text/plain": [
       "      DEPARTAMENTO          MUNICIPIO  CODIGO DANE ARMAS MEDIOS FECHA HECHO  \\\n",
       "0        ANTIOQUIA            LA CEJA    5376000.0         MOTO   1/01/2010   \n",
       "1        ATLÁNTICO  BARRANQUILLA (CT)    8001000.0         MOTO   1/01/2010   \n",
       "2        ATLÁNTICO            LURUACO    8421000.0         MOTO   1/01/2010   \n",
       "3          CAQUETÁ        PUERTO RICO   18592000.0         MOTO   1/01/2010   \n",
       "4         CASANARE            AGUAZUL   85010000.0         MOTO   1/01/2010   \n",
       "...            ...                ...          ...          ...         ...   \n",
       "84289          NaN                NaN          NaN          NaN         NaN   \n",
       "84290          NaN                NaN          NaN          NaN         NaN   \n",
       "84291          NaN                NaN          NaN          NaN         NaN   \n",
       "84292          NaN                NaN          NaN          NaN         NaN   \n",
       "84293          NaN                NaN          NaN          NaN         NaN   \n",
       "\n",
       "          GENERO  GRUPO ETARÍO  \\\n",
       "0      MASCULINO       ADULTOS   \n",
       "1       FEMENINO       ADULTOS   \n",
       "2      MASCULINO       ADULTOS   \n",
       "3      MASCULINO  ADOLESCENTES   \n",
       "4      MASCULINO       ADULTOS   \n",
       "...          ...           ...   \n",
       "84289        NaN           NaN   \n",
       "84290        NaN           NaN   \n",
       "84291        NaN           NaN   \n",
       "84292        NaN           NaN   \n",
       "84293        NaN           NaN   \n",
       "\n",
       "                                    DESCRIPCIÓN CONDUCTA  CANTIDAD  \n",
       "0      ARTÍCULO 109. HOMICIDIO CULPOSO ( EN ACCIDENTE...       1.0  \n",
       "1      ARTÍCULO 109. HOMICIDIO CULPOSO ( EN ACCIDENTE...       1.0  \n",
       "2      ARTÍCULO 109. HOMICIDIO CULPOSO ( EN ACCIDENTE...       1.0  \n",
       "3      ARTÍCULO 109. HOMICIDIO CULPOSO ( EN ACCIDENTE...       1.0  \n",
       "4      ARTÍCULO 109. HOMICIDIO CULPOSO ( EN ACCIDENTE...       1.0  \n",
       "...                                                  ...       ...  \n",
       "84289  ARTÍCULO 109. HOMICIDIO CULPOSO ( EN ACCIDENTE...       NaN  \n",
       "84290  ARTÍCULO 109. HOMICIDIO CULPOSO ( EN ACCIDENTE...       NaN  \n",
       "84291  ARTÍCULO 109. HOMICIDIO CULPOSO ( EN ACCIDENTE...       NaN  \n",
       "84292  ARTÍCULO 109. HOMICIDIO CULPOSO ( EN ACCIDENTE...       NaN  \n",
       "84293  ARTÍCULO 109. HOMICIDIO CULPOSO ( EN ACCIDENTE...       NaN  \n",
       "\n",
       "[84294 rows x 9 columns]"
      ]
     },
     "execution_count": 27,
     "metadata": {},
     "output_type": "execute_result"
    }
   ],
   "source": [
    "#Visualizar el contenido de mi Data Frame, mostrar las primeras y ultimas 5 columnas y filas\n",
    "df"
   ]
  },
  {
   "cell_type": "code",
   "execution_count": null,
   "metadata": {},
   "outputs": [
    {
     "data": {
      "text/plain": [
       "Index(['DEPARTAMENTO', 'MUNICIPIO', 'CODIGO DANE', 'ARMAS MEDIOS',\n",
       "       'FECHA HECHO', 'GENERO', 'GRUPO ETARÍO', 'DESCRIPCIÓN CONDUCTA',\n",
       "       'CANTIDAD'],\n",
       "      dtype='object')"
      ]
     },
     "execution_count": 28,
     "metadata": {},
     "output_type": "execute_result"
    }
   ],
   "source": [
    "#Revisar los encabezados de mi base de datos\n",
    "df.columns"
   ]
  },
  {
   "cell_type": "code",
   "execution_count": null,
   "metadata": {},
   "outputs": [
    {
     "data": {
      "text/html": [
       "<div>\n",
       "<style scoped>\n",
       "    .dataframe tbody tr th:only-of-type {\n",
       "        vertical-align: middle;\n",
       "    }\n",
       "\n",
       "    .dataframe tbody tr th {\n",
       "        vertical-align: top;\n",
       "    }\n",
       "\n",
       "    .dataframe thead th {\n",
       "        text-align: right;\n",
       "    }\n",
       "</style>\n",
       "<table border=\"1\" class=\"dataframe\">\n",
       "  <thead>\n",
       "    <tr style=\"text-align: right;\">\n",
       "      <th></th>\n",
       "      <th>DEPARTAMENTO</th>\n",
       "      <th>MUNICIPIO</th>\n",
       "      <th>CODIGO DANE</th>\n",
       "      <th>ARMAS MEDIOS</th>\n",
       "      <th>FECHA HECHO</th>\n",
       "      <th>GENERO</th>\n",
       "      <th>GRUPO ETARÍO</th>\n",
       "      <th>DESCRIPCIÓN CONDUCTA</th>\n",
       "      <th>CANTIDAD</th>\n",
       "    </tr>\n",
       "  </thead>\n",
       "  <tbody>\n",
       "    <tr>\n",
       "      <th>0</th>\n",
       "      <td>ANTIOQUIA</td>\n",
       "      <td>LA CEJA</td>\n",
       "      <td>5376000.0</td>\n",
       "      <td>MOTO</td>\n",
       "      <td>1/01/2010</td>\n",
       "      <td>MASCULINO</td>\n",
       "      <td>ADULTOS</td>\n",
       "      <td>ARTÍCULO 109. HOMICIDIO CULPOSO ( EN ACCIDENTE...</td>\n",
       "      <td>1.0</td>\n",
       "    </tr>\n",
       "    <tr>\n",
       "      <th>1</th>\n",
       "      <td>ATLÁNTICO</td>\n",
       "      <td>BARRANQUILLA (CT)</td>\n",
       "      <td>8001000.0</td>\n",
       "      <td>MOTO</td>\n",
       "      <td>1/01/2010</td>\n",
       "      <td>FEMENINO</td>\n",
       "      <td>ADULTOS</td>\n",
       "      <td>ARTÍCULO 109. HOMICIDIO CULPOSO ( EN ACCIDENTE...</td>\n",
       "      <td>1.0</td>\n",
       "    </tr>\n",
       "    <tr>\n",
       "      <th>2</th>\n",
       "      <td>ATLÁNTICO</td>\n",
       "      <td>LURUACO</td>\n",
       "      <td>8421000.0</td>\n",
       "      <td>MOTO</td>\n",
       "      <td>1/01/2010</td>\n",
       "      <td>MASCULINO</td>\n",
       "      <td>ADULTOS</td>\n",
       "      <td>ARTÍCULO 109. HOMICIDIO CULPOSO ( EN ACCIDENTE...</td>\n",
       "      <td>1.0</td>\n",
       "    </tr>\n",
       "    <tr>\n",
       "      <th>3</th>\n",
       "      <td>CAQUETÁ</td>\n",
       "      <td>PUERTO RICO</td>\n",
       "      <td>18592000.0</td>\n",
       "      <td>MOTO</td>\n",
       "      <td>1/01/2010</td>\n",
       "      <td>MASCULINO</td>\n",
       "      <td>ADOLESCENTES</td>\n",
       "      <td>ARTÍCULO 109. HOMICIDIO CULPOSO ( EN ACCIDENTE...</td>\n",
       "      <td>1.0</td>\n",
       "    </tr>\n",
       "    <tr>\n",
       "      <th>4</th>\n",
       "      <td>CASANARE</td>\n",
       "      <td>AGUAZUL</td>\n",
       "      <td>85010000.0</td>\n",
       "      <td>MOTO</td>\n",
       "      <td>1/01/2010</td>\n",
       "      <td>MASCULINO</td>\n",
       "      <td>ADULTOS</td>\n",
       "      <td>ARTÍCULO 109. HOMICIDIO CULPOSO ( EN ACCIDENTE...</td>\n",
       "      <td>1.0</td>\n",
       "    </tr>\n",
       "    <tr>\n",
       "      <th>5</th>\n",
       "      <td>CESAR</td>\n",
       "      <td>AGUSTÍN CODAZZI</td>\n",
       "      <td>20013000.0</td>\n",
       "      <td>MOTO</td>\n",
       "      <td>1/01/2010</td>\n",
       "      <td>FEMENINO</td>\n",
       "      <td>ADULTOS</td>\n",
       "      <td>ARTÍCULO 109. HOMICIDIO CULPOSO ( EN ACCIDENTE...</td>\n",
       "      <td>1.0</td>\n",
       "    </tr>\n",
       "    <tr>\n",
       "      <th>6</th>\n",
       "      <td>GUAJIRA</td>\n",
       "      <td>RIOHACHA (CT)</td>\n",
       "      <td>44001000.0</td>\n",
       "      <td>MOTO</td>\n",
       "      <td>1/01/2010</td>\n",
       "      <td>FEMENINO</td>\n",
       "      <td>ADULTOS</td>\n",
       "      <td>ARTÍCULO 109. HOMICIDIO CULPOSO ( EN ACCIDENTE...</td>\n",
       "      <td>1.0</td>\n",
       "    </tr>\n",
       "    <tr>\n",
       "      <th>7</th>\n",
       "      <td>HUILA</td>\n",
       "      <td>ISNOS</td>\n",
       "      <td>41359000.0</td>\n",
       "      <td>MOTO</td>\n",
       "      <td>1/01/2010</td>\n",
       "      <td>MASCULINO</td>\n",
       "      <td>ADULTOS</td>\n",
       "      <td>ARTÍCULO 109. HOMICIDIO CULPOSO ( EN ACCIDENTE...</td>\n",
       "      <td>1.0</td>\n",
       "    </tr>\n",
       "    <tr>\n",
       "      <th>8</th>\n",
       "      <td>HUILA</td>\n",
       "      <td>NEIVA (CT)</td>\n",
       "      <td>41001000.0</td>\n",
       "      <td>MOTO</td>\n",
       "      <td>1/01/2010</td>\n",
       "      <td>MASCULINO</td>\n",
       "      <td>ADULTOS</td>\n",
       "      <td>ARTÍCULO 109. HOMICIDIO CULPOSO ( EN ACCIDENTE...</td>\n",
       "      <td>1.0</td>\n",
       "    </tr>\n",
       "    <tr>\n",
       "      <th>9</th>\n",
       "      <td>HUILA</td>\n",
       "      <td>PALERMO</td>\n",
       "      <td>41524000.0</td>\n",
       "      <td>MOTO</td>\n",
       "      <td>1/01/2010</td>\n",
       "      <td>MASCULINO</td>\n",
       "      <td>ADULTOS</td>\n",
       "      <td>ARTÍCULO 109. HOMICIDIO CULPOSO ( EN ACCIDENTE...</td>\n",
       "      <td>1.0</td>\n",
       "    </tr>\n",
       "    <tr>\n",
       "      <th>10</th>\n",
       "      <td>NARIÑO</td>\n",
       "      <td>SAN ANDRES DE TUMACO</td>\n",
       "      <td>52835000.0</td>\n",
       "      <td>MOTO</td>\n",
       "      <td>1/01/2010</td>\n",
       "      <td>FEMENINO</td>\n",
       "      <td>ADULTOS</td>\n",
       "      <td>ARTÍCULO 109. HOMICIDIO CULPOSO ( EN ACCIDENTE...</td>\n",
       "      <td>1.0</td>\n",
       "    </tr>\n",
       "    <tr>\n",
       "      <th>11</th>\n",
       "      <td>RISARALDA</td>\n",
       "      <td>LA VIRGINIA</td>\n",
       "      <td>66400000.0</td>\n",
       "      <td>MOTO</td>\n",
       "      <td>1/01/2010</td>\n",
       "      <td>MASCULINO</td>\n",
       "      <td>ADULTOS</td>\n",
       "      <td>ARTÍCULO 109. HOMICIDIO CULPOSO ( EN ACCIDENTE...</td>\n",
       "      <td>1.0</td>\n",
       "    </tr>\n",
       "    <tr>\n",
       "      <th>12</th>\n",
       "      <td>SANTANDER</td>\n",
       "      <td>CIMITARRA</td>\n",
       "      <td>68190000.0</td>\n",
       "      <td>MOTO</td>\n",
       "      <td>1/01/2010</td>\n",
       "      <td>MASCULINO</td>\n",
       "      <td>ADULTOS</td>\n",
       "      <td>ARTÍCULO 109. HOMICIDIO CULPOSO ( EN ACCIDENTE...</td>\n",
       "      <td>1.0</td>\n",
       "    </tr>\n",
       "    <tr>\n",
       "      <th>13</th>\n",
       "      <td>SANTANDER</td>\n",
       "      <td>EL PLAYÓN</td>\n",
       "      <td>68255000.0</td>\n",
       "      <td>MOTO</td>\n",
       "      <td>1/01/2010</td>\n",
       "      <td>MASCULINO</td>\n",
       "      <td>ADULTOS</td>\n",
       "      <td>ARTÍCULO 109. HOMICIDIO CULPOSO ( EN ACCIDENTE...</td>\n",
       "      <td>1.0</td>\n",
       "    </tr>\n",
       "    <tr>\n",
       "      <th>14</th>\n",
       "      <td>ANTIOQUIA</td>\n",
       "      <td>MEDELLÍN (CT)</td>\n",
       "      <td>5001000.0</td>\n",
       "      <td>VEHICULO</td>\n",
       "      <td>1/01/2010</td>\n",
       "      <td>FEMENINO</td>\n",
       "      <td>ADULTOS</td>\n",
       "      <td>ARTÍCULO 109. HOMICIDIO CULPOSO ( EN ACCIDENTE...</td>\n",
       "      <td>1.0</td>\n",
       "    </tr>\n",
       "  </tbody>\n",
       "</table>\n",
       "</div>"
      ],
      "text/plain": [
       "   DEPARTAMENTO             MUNICIPIO  CODIGO DANE ARMAS MEDIOS FECHA HECHO  \\\n",
       "0     ANTIOQUIA               LA CEJA    5376000.0         MOTO   1/01/2010   \n",
       "1     ATLÁNTICO     BARRANQUILLA (CT)    8001000.0         MOTO   1/01/2010   \n",
       "2     ATLÁNTICO               LURUACO    8421000.0         MOTO   1/01/2010   \n",
       "3       CAQUETÁ           PUERTO RICO   18592000.0         MOTO   1/01/2010   \n",
       "4      CASANARE               AGUAZUL   85010000.0         MOTO   1/01/2010   \n",
       "5         CESAR       AGUSTÍN CODAZZI   20013000.0         MOTO   1/01/2010   \n",
       "6       GUAJIRA         RIOHACHA (CT)   44001000.0         MOTO   1/01/2010   \n",
       "7         HUILA                 ISNOS   41359000.0         MOTO   1/01/2010   \n",
       "8         HUILA            NEIVA (CT)   41001000.0         MOTO   1/01/2010   \n",
       "9         HUILA               PALERMO   41524000.0         MOTO   1/01/2010   \n",
       "10       NARIÑO  SAN ANDRES DE TUMACO   52835000.0         MOTO   1/01/2010   \n",
       "11    RISARALDA           LA VIRGINIA   66400000.0         MOTO   1/01/2010   \n",
       "12    SANTANDER             CIMITARRA   68190000.0         MOTO   1/01/2010   \n",
       "13    SANTANDER             EL PLAYÓN   68255000.0         MOTO   1/01/2010   \n",
       "14    ANTIOQUIA         MEDELLÍN (CT)    5001000.0     VEHICULO   1/01/2010   \n",
       "\n",
       "       GENERO  GRUPO ETARÍO  \\\n",
       "0   MASCULINO       ADULTOS   \n",
       "1    FEMENINO       ADULTOS   \n",
       "2   MASCULINO       ADULTOS   \n",
       "3   MASCULINO  ADOLESCENTES   \n",
       "4   MASCULINO       ADULTOS   \n",
       "5    FEMENINO       ADULTOS   \n",
       "6    FEMENINO       ADULTOS   \n",
       "7   MASCULINO       ADULTOS   \n",
       "8   MASCULINO       ADULTOS   \n",
       "9   MASCULINO       ADULTOS   \n",
       "10   FEMENINO       ADULTOS   \n",
       "11  MASCULINO       ADULTOS   \n",
       "12  MASCULINO       ADULTOS   \n",
       "13  MASCULINO       ADULTOS   \n",
       "14   FEMENINO       ADULTOS   \n",
       "\n",
       "                                 DESCRIPCIÓN CONDUCTA  CANTIDAD  \n",
       "0   ARTÍCULO 109. HOMICIDIO CULPOSO ( EN ACCIDENTE...       1.0  \n",
       "1   ARTÍCULO 109. HOMICIDIO CULPOSO ( EN ACCIDENTE...       1.0  \n",
       "2   ARTÍCULO 109. HOMICIDIO CULPOSO ( EN ACCIDENTE...       1.0  \n",
       "3   ARTÍCULO 109. HOMICIDIO CULPOSO ( EN ACCIDENTE...       1.0  \n",
       "4   ARTÍCULO 109. HOMICIDIO CULPOSO ( EN ACCIDENTE...       1.0  \n",
       "5   ARTÍCULO 109. HOMICIDIO CULPOSO ( EN ACCIDENTE...       1.0  \n",
       "6   ARTÍCULO 109. HOMICIDIO CULPOSO ( EN ACCIDENTE...       1.0  \n",
       "7   ARTÍCULO 109. HOMICIDIO CULPOSO ( EN ACCIDENTE...       1.0  \n",
       "8   ARTÍCULO 109. HOMICIDIO CULPOSO ( EN ACCIDENTE...       1.0  \n",
       "9   ARTÍCULO 109. HOMICIDIO CULPOSO ( EN ACCIDENTE...       1.0  \n",
       "10  ARTÍCULO 109. HOMICIDIO CULPOSO ( EN ACCIDENTE...       1.0  \n",
       "11  ARTÍCULO 109. HOMICIDIO CULPOSO ( EN ACCIDENTE...       1.0  \n",
       "12  ARTÍCULO 109. HOMICIDIO CULPOSO ( EN ACCIDENTE...       1.0  \n",
       "13  ARTÍCULO 109. HOMICIDIO CULPOSO ( EN ACCIDENTE...       1.0  \n",
       "14  ARTÍCULO 109. HOMICIDIO CULPOSO ( EN ACCIDENTE...       1.0  "
      ]
     },
     "execution_count": 29,
     "metadata": {},
     "output_type": "execute_result"
    }
   ],
   "source": [
    "#Revisar los primeros 15 registros de mi Data Frame\n",
    "df.head(15)"
   ]
  },
  {
   "cell_type": "code",
   "execution_count": null,
   "metadata": {},
   "outputs": [
    {
     "data": {
      "text/html": [
       "<div>\n",
       "<style scoped>\n",
       "    .dataframe tbody tr th:only-of-type {\n",
       "        vertical-align: middle;\n",
       "    }\n",
       "\n",
       "    .dataframe tbody tr th {\n",
       "        vertical-align: top;\n",
       "    }\n",
       "\n",
       "    .dataframe thead th {\n",
       "        text-align: right;\n",
       "    }\n",
       "</style>\n",
       "<table border=\"1\" class=\"dataframe\">\n",
       "  <thead>\n",
       "    <tr style=\"text-align: right;\">\n",
       "      <th></th>\n",
       "      <th>DEPARTAMENTO</th>\n",
       "      <th>MUNICIPIO</th>\n",
       "      <th>CODIGO DANE</th>\n",
       "      <th>ARMAS MEDIOS</th>\n",
       "      <th>FECHA HECHO</th>\n",
       "      <th>GENERO</th>\n",
       "      <th>GRUPO ETARÍO</th>\n",
       "      <th>DESCRIPCIÓN CONDUCTA</th>\n",
       "      <th>CANTIDAD</th>\n",
       "    </tr>\n",
       "  </thead>\n",
       "  <tbody>\n",
       "    <tr>\n",
       "      <th>84279</th>\n",
       "      <td>NaN</td>\n",
       "      <td>NaN</td>\n",
       "      <td>NaN</td>\n",
       "      <td>NaN</td>\n",
       "      <td>NaN</td>\n",
       "      <td>NaN</td>\n",
       "      <td>NaN</td>\n",
       "      <td>ARTÍCULO 109. HOMICIDIO CULPOSO ( EN ACCIDENTE...</td>\n",
       "      <td>NaN</td>\n",
       "    </tr>\n",
       "    <tr>\n",
       "      <th>84280</th>\n",
       "      <td>NaN</td>\n",
       "      <td>NaN</td>\n",
       "      <td>NaN</td>\n",
       "      <td>NaN</td>\n",
       "      <td>NaN</td>\n",
       "      <td>NaN</td>\n",
       "      <td>NaN</td>\n",
       "      <td>ARTÍCULO 109. HOMICIDIO CULPOSO ( EN ACCIDENTE...</td>\n",
       "      <td>NaN</td>\n",
       "    </tr>\n",
       "    <tr>\n",
       "      <th>84281</th>\n",
       "      <td>NaN</td>\n",
       "      <td>NaN</td>\n",
       "      <td>NaN</td>\n",
       "      <td>NaN</td>\n",
       "      <td>NaN</td>\n",
       "      <td>NaN</td>\n",
       "      <td>NaN</td>\n",
       "      <td>ARTÍCULO 109. HOMICIDIO CULPOSO ( EN ACCIDENTE...</td>\n",
       "      <td>NaN</td>\n",
       "    </tr>\n",
       "    <tr>\n",
       "      <th>84282</th>\n",
       "      <td>NaN</td>\n",
       "      <td>NaN</td>\n",
       "      <td>NaN</td>\n",
       "      <td>NaN</td>\n",
       "      <td>NaN</td>\n",
       "      <td>NaN</td>\n",
       "      <td>NaN</td>\n",
       "      <td>ARTÍCULO 109. HOMICIDIO CULPOSO ( EN ACCIDENTE...</td>\n",
       "      <td>NaN</td>\n",
       "    </tr>\n",
       "    <tr>\n",
       "      <th>84283</th>\n",
       "      <td>NaN</td>\n",
       "      <td>NaN</td>\n",
       "      <td>NaN</td>\n",
       "      <td>NaN</td>\n",
       "      <td>NaN</td>\n",
       "      <td>NaN</td>\n",
       "      <td>NaN</td>\n",
       "      <td>ARTÍCULO 109. HOMICIDIO CULPOSO ( EN ACCIDENTE...</td>\n",
       "      <td>NaN</td>\n",
       "    </tr>\n",
       "    <tr>\n",
       "      <th>84284</th>\n",
       "      <td>NaN</td>\n",
       "      <td>NaN</td>\n",
       "      <td>NaN</td>\n",
       "      <td>NaN</td>\n",
       "      <td>NaN</td>\n",
       "      <td>NaN</td>\n",
       "      <td>NaN</td>\n",
       "      <td>ARTÍCULO 109. HOMICIDIO CULPOSO ( EN ACCIDENTE...</td>\n",
       "      <td>NaN</td>\n",
       "    </tr>\n",
       "    <tr>\n",
       "      <th>84285</th>\n",
       "      <td>NaN</td>\n",
       "      <td>NaN</td>\n",
       "      <td>NaN</td>\n",
       "      <td>NaN</td>\n",
       "      <td>NaN</td>\n",
       "      <td>NaN</td>\n",
       "      <td>NaN</td>\n",
       "      <td>ARTÍCULO 109. HOMICIDIO CULPOSO ( EN ACCIDENTE...</td>\n",
       "      <td>NaN</td>\n",
       "    </tr>\n",
       "    <tr>\n",
       "      <th>84286</th>\n",
       "      <td>NaN</td>\n",
       "      <td>NaN</td>\n",
       "      <td>NaN</td>\n",
       "      <td>NaN</td>\n",
       "      <td>NaN</td>\n",
       "      <td>NaN</td>\n",
       "      <td>NaN</td>\n",
       "      <td>ARTÍCULO 109. HOMICIDIO CULPOSO ( EN ACCIDENTE...</td>\n",
       "      <td>NaN</td>\n",
       "    </tr>\n",
       "    <tr>\n",
       "      <th>84287</th>\n",
       "      <td>NaN</td>\n",
       "      <td>NaN</td>\n",
       "      <td>NaN</td>\n",
       "      <td>NaN</td>\n",
       "      <td>NaN</td>\n",
       "      <td>NaN</td>\n",
       "      <td>NaN</td>\n",
       "      <td>ARTÍCULO 109. HOMICIDIO CULPOSO ( EN ACCIDENTE...</td>\n",
       "      <td>NaN</td>\n",
       "    </tr>\n",
       "    <tr>\n",
       "      <th>84288</th>\n",
       "      <td>NaN</td>\n",
       "      <td>NaN</td>\n",
       "      <td>NaN</td>\n",
       "      <td>NaN</td>\n",
       "      <td>NaN</td>\n",
       "      <td>NaN</td>\n",
       "      <td>NaN</td>\n",
       "      <td>ARTÍCULO 109. HOMICIDIO CULPOSO ( EN ACCIDENTE...</td>\n",
       "      <td>NaN</td>\n",
       "    </tr>\n",
       "    <tr>\n",
       "      <th>84289</th>\n",
       "      <td>NaN</td>\n",
       "      <td>NaN</td>\n",
       "      <td>NaN</td>\n",
       "      <td>NaN</td>\n",
       "      <td>NaN</td>\n",
       "      <td>NaN</td>\n",
       "      <td>NaN</td>\n",
       "      <td>ARTÍCULO 109. HOMICIDIO CULPOSO ( EN ACCIDENTE...</td>\n",
       "      <td>NaN</td>\n",
       "    </tr>\n",
       "    <tr>\n",
       "      <th>84290</th>\n",
       "      <td>NaN</td>\n",
       "      <td>NaN</td>\n",
       "      <td>NaN</td>\n",
       "      <td>NaN</td>\n",
       "      <td>NaN</td>\n",
       "      <td>NaN</td>\n",
       "      <td>NaN</td>\n",
       "      <td>ARTÍCULO 109. HOMICIDIO CULPOSO ( EN ACCIDENTE...</td>\n",
       "      <td>NaN</td>\n",
       "    </tr>\n",
       "    <tr>\n",
       "      <th>84291</th>\n",
       "      <td>NaN</td>\n",
       "      <td>NaN</td>\n",
       "      <td>NaN</td>\n",
       "      <td>NaN</td>\n",
       "      <td>NaN</td>\n",
       "      <td>NaN</td>\n",
       "      <td>NaN</td>\n",
       "      <td>ARTÍCULO 109. HOMICIDIO CULPOSO ( EN ACCIDENTE...</td>\n",
       "      <td>NaN</td>\n",
       "    </tr>\n",
       "    <tr>\n",
       "      <th>84292</th>\n",
       "      <td>NaN</td>\n",
       "      <td>NaN</td>\n",
       "      <td>NaN</td>\n",
       "      <td>NaN</td>\n",
       "      <td>NaN</td>\n",
       "      <td>NaN</td>\n",
       "      <td>NaN</td>\n",
       "      <td>ARTÍCULO 109. HOMICIDIO CULPOSO ( EN ACCIDENTE...</td>\n",
       "      <td>NaN</td>\n",
       "    </tr>\n",
       "    <tr>\n",
       "      <th>84293</th>\n",
       "      <td>NaN</td>\n",
       "      <td>NaN</td>\n",
       "      <td>NaN</td>\n",
       "      <td>NaN</td>\n",
       "      <td>NaN</td>\n",
       "      <td>NaN</td>\n",
       "      <td>NaN</td>\n",
       "      <td>ARTÍCULO 109. HOMICIDIO CULPOSO ( EN ACCIDENTE...</td>\n",
       "      <td>NaN</td>\n",
       "    </tr>\n",
       "  </tbody>\n",
       "</table>\n",
       "</div>"
      ],
      "text/plain": [
       "      DEPARTAMENTO MUNICIPIO  CODIGO DANE ARMAS MEDIOS FECHA HECHO GENERO  \\\n",
       "84279          NaN       NaN          NaN          NaN         NaN    NaN   \n",
       "84280          NaN       NaN          NaN          NaN         NaN    NaN   \n",
       "84281          NaN       NaN          NaN          NaN         NaN    NaN   \n",
       "84282          NaN       NaN          NaN          NaN         NaN    NaN   \n",
       "84283          NaN       NaN          NaN          NaN         NaN    NaN   \n",
       "84284          NaN       NaN          NaN          NaN         NaN    NaN   \n",
       "84285          NaN       NaN          NaN          NaN         NaN    NaN   \n",
       "84286          NaN       NaN          NaN          NaN         NaN    NaN   \n",
       "84287          NaN       NaN          NaN          NaN         NaN    NaN   \n",
       "84288          NaN       NaN          NaN          NaN         NaN    NaN   \n",
       "84289          NaN       NaN          NaN          NaN         NaN    NaN   \n",
       "84290          NaN       NaN          NaN          NaN         NaN    NaN   \n",
       "84291          NaN       NaN          NaN          NaN         NaN    NaN   \n",
       "84292          NaN       NaN          NaN          NaN         NaN    NaN   \n",
       "84293          NaN       NaN          NaN          NaN         NaN    NaN   \n",
       "\n",
       "      GRUPO ETARÍO                               DESCRIPCIÓN CONDUCTA  \\\n",
       "84279          NaN  ARTÍCULO 109. HOMICIDIO CULPOSO ( EN ACCIDENTE...   \n",
       "84280          NaN  ARTÍCULO 109. HOMICIDIO CULPOSO ( EN ACCIDENTE...   \n",
       "84281          NaN  ARTÍCULO 109. HOMICIDIO CULPOSO ( EN ACCIDENTE...   \n",
       "84282          NaN  ARTÍCULO 109. HOMICIDIO CULPOSO ( EN ACCIDENTE...   \n",
       "84283          NaN  ARTÍCULO 109. HOMICIDIO CULPOSO ( EN ACCIDENTE...   \n",
       "84284          NaN  ARTÍCULO 109. HOMICIDIO CULPOSO ( EN ACCIDENTE...   \n",
       "84285          NaN  ARTÍCULO 109. HOMICIDIO CULPOSO ( EN ACCIDENTE...   \n",
       "84286          NaN  ARTÍCULO 109. HOMICIDIO CULPOSO ( EN ACCIDENTE...   \n",
       "84287          NaN  ARTÍCULO 109. HOMICIDIO CULPOSO ( EN ACCIDENTE...   \n",
       "84288          NaN  ARTÍCULO 109. HOMICIDIO CULPOSO ( EN ACCIDENTE...   \n",
       "84289          NaN  ARTÍCULO 109. HOMICIDIO CULPOSO ( EN ACCIDENTE...   \n",
       "84290          NaN  ARTÍCULO 109. HOMICIDIO CULPOSO ( EN ACCIDENTE...   \n",
       "84291          NaN  ARTÍCULO 109. HOMICIDIO CULPOSO ( EN ACCIDENTE...   \n",
       "84292          NaN  ARTÍCULO 109. HOMICIDIO CULPOSO ( EN ACCIDENTE...   \n",
       "84293          NaN  ARTÍCULO 109. HOMICIDIO CULPOSO ( EN ACCIDENTE...   \n",
       "\n",
       "       CANTIDAD  \n",
       "84279       NaN  \n",
       "84280       NaN  \n",
       "84281       NaN  \n",
       "84282       NaN  \n",
       "84283       NaN  \n",
       "84284       NaN  \n",
       "84285       NaN  \n",
       "84286       NaN  \n",
       "84287       NaN  \n",
       "84288       NaN  \n",
       "84289       NaN  \n",
       "84290       NaN  \n",
       "84291       NaN  \n",
       "84292       NaN  \n",
       "84293       NaN  "
      ]
     },
     "execution_count": 30,
     "metadata": {},
     "output_type": "execute_result"
    }
   ],
   "source": [
    "#Revisar los ultimos 15 registros de mi Data Frame\n",
    "df.tail(15)"
   ]
  },
  {
   "cell_type": "code",
   "execution_count": null,
   "metadata": {},
   "outputs": [
    {
     "data": {
      "text/plain": [
       "DEPARTAMENTO                                                        CESAR\n",
       "MUNICIPIO                                                 AGUSTÍN CODAZZI\n",
       "CODIGO DANE                                                    20013000.0\n",
       "ARMAS MEDIOS                                                         MOTO\n",
       "FECHA HECHO                                                     1/01/2010\n",
       "GENERO                                                           FEMENINO\n",
       "GRUPO ETARÍO                                                      ADULTOS\n",
       "DESCRIPCIÓN CONDUCTA    ARTÍCULO 109. HOMICIDIO CULPOSO ( EN ACCIDENTE...\n",
       "CANTIDAD                                                              1.0\n",
       "Name: 5, dtype: object"
      ]
     },
     "execution_count": 31,
     "metadata": {},
     "output_type": "execute_result"
    }
   ],
   "source": [
    "#Revisar los datos de una fila al azar, en este caso la numero 5 \n",
    "df.loc[5]"
   ]
  },
  {
   "cell_type": "code",
   "execution_count": null,
   "metadata": {},
   "outputs": [
    {
     "data": {
      "text/plain": [
       "count            82354\n",
       "unique              32\n",
       "top       CUNDINAMARCA\n",
       "freq             12282\n",
       "Name: DEPARTAMENTO, dtype: object"
      ]
     },
     "execution_count": 32,
     "metadata": {},
     "output_type": "execute_result"
    }
   ],
   "source": [
    "#Mostrar los datos más relevantes de la columna \"Departamento\"\n",
    "df.DEPARTAMENTO.describe()"
   ]
  },
  {
   "cell_type": "code",
   "execution_count": null,
   "metadata": {},
   "outputs": [
    {
     "data": {
      "text/plain": [
       "count                82354\n",
       "unique                1798\n",
       "top       BOGOTÁ D.C. (CT)\n",
       "freq                  5146\n",
       "Name: MUNICIPIO, dtype: object"
      ]
     },
     "execution_count": 33,
     "metadata": {},
     "output_type": "execute_result"
    }
   ],
   "source": [
    "#Mostrar los datos más relevantes de la columna \"Municipio\"\n",
    "df.MUNICIPIO.describe()"
   ]
  },
  {
   "cell_type": "code",
   "execution_count": null,
   "metadata": {},
   "outputs": [
    {
     "data": {
      "text/plain": [
       "count         82354\n",
       "unique            5\n",
       "top       MASCULINO\n",
       "freq          65481\n",
       "Name: GENERO, dtype: object"
      ]
     },
     "execution_count": 34,
     "metadata": {},
     "output_type": "execute_result"
    }
   ],
   "source": [
    "#Mostrar los datos más relevantes de la columna \"Genero\"\n",
    "df.GENERO.describe()"
   ]
  },
  {
   "cell_type": "code",
   "execution_count": null,
   "metadata": {},
   "outputs": [
    {
     "data": {
      "text/plain": [
       "count    82354.000000\n",
       "mean         1.110074\n",
       "std          0.404899\n",
       "min          1.000000\n",
       "25%          1.000000\n",
       "50%          1.000000\n",
       "75%          1.000000\n",
       "max         16.000000\n",
       "Name: CANTIDAD, dtype: float64"
      ]
     },
     "execution_count": 35,
     "metadata": {},
     "output_type": "execute_result"
    }
   ],
   "source": [
    "#Generar un resumen estadístico de la columna \"Cantidad\"\n",
    "df.CANTIDAD.describe()"
   ]
  },
  {
   "cell_type": "code",
   "execution_count": null,
   "metadata": {},
   "outputs": [
    {
     "data": {
      "text/plain": [
       "np.float64(1.1100735847681957)"
      ]
     },
     "execution_count": 36,
     "metadata": {},
     "output_type": "execute_result"
    }
   ],
   "source": [
    "#Calcular el promedio de los valores en la columna \"Cantidad\"\n",
    "df.CANTIDAD.mean()"
   ]
  },
  {
   "cell_type": "code",
   "execution_count": null,
   "metadata": {},
   "outputs": [
    {
     "data": {
      "text/plain": [
       "np.int64(82354)"
      ]
     },
     "execution_count": 37,
     "metadata": {},
     "output_type": "execute_result"
    }
   ],
   "source": [
    "#Mostrar la cantidad de valores no nulos en la columna \"Cantidad\"\n",
    "df.CANTIDAD.count()"
   ]
  },
  {
   "cell_type": "code",
   "execution_count": null,
   "metadata": {},
   "outputs": [
    {
     "data": {
      "text/plain": [
       "np.float64(0.4048985289784506)"
      ]
     },
     "execution_count": 38,
     "metadata": {},
     "output_type": "execute_result"
    }
   ],
   "source": [
    "#Calcular la desviación estandar de los valores de la columna \"Cantidad\"\n",
    "df.CANTIDAD.std()"
   ]
  },
  {
   "cell_type": "code",
   "execution_count": null,
   "metadata": {},
   "outputs": [
    {
     "data": {
      "text/plain": [
       "np.float64(1.0)"
      ]
     },
     "execution_count": 39,
     "metadata": {},
     "output_type": "execute_result"
    }
   ],
   "source": [
    "#Mostrar el valor minimo de la columna \"Cantidad\"\n",
    "df.CANTIDAD.min()"
   ]
  },
  {
   "cell_type": "code",
   "execution_count": null,
   "metadata": {},
   "outputs": [
    {
     "data": {
      "text/plain": [
       "np.float64(16.0)"
      ]
     },
     "execution_count": 40,
     "metadata": {},
     "output_type": "execute_result"
    }
   ],
   "source": [
    "#Mostrar el valor máximo de la columna \"Cantidad\"\n",
    "df.CANTIDAD.max()"
   ]
  },
  {
   "cell_type": "code",
   "execution_count": null,
   "metadata": {},
   "outputs": [
    {
     "data": {
      "text/plain": [
       "np.float64(1.0)"
      ]
     },
     "execution_count": 41,
     "metadata": {},
     "output_type": "execute_result"
    }
   ],
   "source": [
    "#Mostrar la mediana de los valores de la columna \"Cantidad\"\n",
    "df.CANTIDAD.median()"
   ]
  },
  {
   "cell_type": "code",
   "execution_count": null,
   "metadata": {},
   "outputs": [
    {
     "data": {
      "text/plain": [
       "0    1.0\n",
       "Name: CANTIDAD, dtype: float64"
      ]
     },
     "execution_count": 42,
     "metadata": {},
     "output_type": "execute_result"
    }
   ],
   "source": [
    "#Mostrar la moda en la columna \"Cantidad\"\n",
    "df.CANTIDAD.mode()"
   ]
  },
  {
   "cell_type": "code",
   "execution_count": null,
   "metadata": {},
   "outputs": [
    {
     "data": {
      "text/plain": [
       "np.float64(1.0)"
      ]
     },
     "execution_count": 43,
     "metadata": {},
     "output_type": "execute_result"
    }
   ],
   "source": [
    "#Calcular el primer cuartil de la columna \"Cantidad\"\n",
    "df.CANTIDAD.quantile(0.25)"
   ]
  },
  {
   "cell_type": "code",
   "execution_count": null,
   "metadata": {},
   "outputs": [
    {
     "data": {
      "text/plain": [
       "count         82354\n",
       "unique            5\n",
       "top       MASCULINO\n",
       "freq          65481\n",
       "Name: GENERO, dtype: object"
      ]
     },
     "execution_count": 44,
     "metadata": {},
     "output_type": "execute_result"
    }
   ],
   "source": [
    "#Mostrar un resuen estadistico de los valores en la columna \"Genero\"\n",
    "df[\"GENERO\"].describe()"
   ]
  },
  {
   "cell_type": "code",
   "execution_count": null,
   "metadata": {},
   "outputs": [
    {
     "data": {
      "text/plain": [
       "array(['MASCULINO', 'FEMENINO', 'NO REPORTA', 'NO REPORTADO',\n",
       "       'NO REPOTADO', nan], dtype=object)"
      ]
     },
     "execution_count": 45,
     "metadata": {},
     "output_type": "execute_result"
    }
   ],
   "source": [
    "#Mostrar los valores en la columna \"Genero\"\n",
    "df.GENERO.unique()"
   ]
  },
  {
   "cell_type": "code",
   "execution_count": null,
   "metadata": {},
   "outputs": [
    {
     "data": {
      "text/plain": [
       "array(['ADULTOS', 'ADOLESCENTES', 'MENORES', 'NO REPORTADO',\n",
       "       'NO REPOTADO', nan], dtype=object)"
      ]
     },
     "execution_count": 46,
     "metadata": {},
     "output_type": "execute_result"
    }
   ],
   "source": [
    "#Mostrar los valores en la columna \"Genero\"\n",
    "df[\"GRUPO ETARÍO\"].unique()"
   ]
  },
  {
   "cell_type": "code",
   "execution_count": null,
   "metadata": {},
   "outputs": [
    {
     "data": {
      "text/plain": [
       "array(['ARTÍCULO 109. HOMICIDIO CULPOSO ( EN ACCIDENTE DE TRÁNSITO)'],\n",
       "      dtype=object)"
      ]
     },
     "execution_count": 47,
     "metadata": {},
     "output_type": "execute_result"
    }
   ],
   "source": [
    "#Mostrar los valores en la columna \"Genero\"\n",
    "df[\"DESCRIPCIÓN CONDUCTA\"].unique()"
   ]
  },
  {
   "cell_type": "code",
   "execution_count": null,
   "metadata": {},
   "outputs": [
    {
     "data": {
      "text/plain": [
       "array([ 1.,  2.,  4.,  3.,  7.,  5., 10.,  8.,  6.,  9., 11., 16., nan])"
      ]
     },
     "execution_count": 48,
     "metadata": {},
     "output_type": "execute_result"
    }
   ],
   "source": [
    "#Mostrar los valores en la columna \"Genero\"\n",
    "df.CANTIDAD.unique()"
   ]
  }
 ],
 "metadata": {
  "kernelspec": {
   "display_name": "Python 3",
   "language": "python",
   "name": "python3"
  },
  "language_info": {
   "codemirror_mode": {
    "name": "ipython",
    "version": 3
   },
   "file_extension": ".py",
   "mimetype": "text/x-python",
   "name": "python",
   "nbconvert_exporter": "python",
   "pygments_lexer": "ipython3",
   "version": "3.13.2"
  }
 },
 "nbformat": 4,
 "nbformat_minor": 2
}
